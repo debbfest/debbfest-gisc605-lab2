{
 "cells": [
  {
   "cell_type": "code",
   "execution_count": 1,
   "metadata": {},
   "outputs": [],
   "source": [
    "import os\n",
    "import matplotlib.pyplot as plt\n",
    "import geopandas as gpd\n",
    "import earthpy as et"
   ]
  },
  {
   "cell_type": "code",
   "execution_count": 3,
   "metadata": {},
   "outputs": [
    {
     "name": "stdout",
     "output_type": "stream",
     "text": [
      "Downloading from https://ndownloader.figshare.com/files/12459464\n",
      "Extracted output to /home/codespace/earth-analytics/data/spatial-vector-lidar/.\n"
     ]
    }
   ],
   "source": [
    "data = et.data.get_data(\"spatial-vector-lidar\")\n",
    "os.chdir(os.path.join(et.io.HOME, \"earth-analytics\"))"
   ]
  },
  {
   "cell_type": "code",
   "execution_count": 4,
   "metadata": {},
   "outputs": [
    {
     "data": {
      "text/html": [
       "<div>\n",
       "<style scoped>\n",
       "    .dataframe tbody tr th:only-of-type {\n",
       "        vertical-align: middle;\n",
       "    }\n",
       "\n",
       "    .dataframe tbody tr th {\n",
       "        vertical-align: top;\n",
       "    }\n",
       "\n",
       "    .dataframe thead th {\n",
       "        text-align: right;\n",
       "    }\n",
       "</style>\n",
       "<table border=\"1\" class=\"dataframe\">\n",
       "  <thead>\n",
       "    <tr style=\"text-align: right;\">\n",
       "      <th></th>\n",
       "      <th>Plot_ID</th>\n",
       "      <th>Point</th>\n",
       "      <th>northing</th>\n",
       "      <th>easting</th>\n",
       "      <th>plot_type</th>\n",
       "      <th>geometry</th>\n",
       "    </tr>\n",
       "  </thead>\n",
       "  <tbody>\n",
       "    <tr>\n",
       "      <th>0</th>\n",
       "      <td>SJER1068</td>\n",
       "      <td>center</td>\n",
       "      <td>4111567.818</td>\n",
       "      <td>255852.376</td>\n",
       "      <td>trees</td>\n",
       "      <td>POINT (255852.376 4111567.818)</td>\n",
       "    </tr>\n",
       "    <tr>\n",
       "      <th>1</th>\n",
       "      <td>SJER112</td>\n",
       "      <td>center</td>\n",
       "      <td>4111298.971</td>\n",
       "      <td>257406.967</td>\n",
       "      <td>trees</td>\n",
       "      <td>POINT (257406.967 4111298.971)</td>\n",
       "    </tr>\n",
       "    <tr>\n",
       "      <th>2</th>\n",
       "      <td>SJER116</td>\n",
       "      <td>center</td>\n",
       "      <td>4110819.876</td>\n",
       "      <td>256838.760</td>\n",
       "      <td>grass</td>\n",
       "      <td>POINT (256838.760 4110819.876)</td>\n",
       "    </tr>\n",
       "    <tr>\n",
       "      <th>3</th>\n",
       "      <td>SJER117</td>\n",
       "      <td>center</td>\n",
       "      <td>4108752.026</td>\n",
       "      <td>256176.947</td>\n",
       "      <td>trees</td>\n",
       "      <td>POINT (256176.947 4108752.026)</td>\n",
       "    </tr>\n",
       "    <tr>\n",
       "      <th>4</th>\n",
       "      <td>SJER120</td>\n",
       "      <td>center</td>\n",
       "      <td>4110476.079</td>\n",
       "      <td>255968.372</td>\n",
       "      <td>grass</td>\n",
       "      <td>POINT (255968.372 4110476.079)</td>\n",
       "    </tr>\n",
       "  </tbody>\n",
       "</table>\n",
       "</div>"
      ],
      "text/plain": [
       "    Plot_ID   Point     northing     easting plot_type  \\\n",
       "0  SJER1068  center  4111567.818  255852.376     trees   \n",
       "1   SJER112  center  4111298.971  257406.967     trees   \n",
       "2   SJER116  center  4110819.876  256838.760     grass   \n",
       "3   SJER117  center  4108752.026  256176.947     trees   \n",
       "4   SJER120  center  4110476.079  255968.372     grass   \n",
       "\n",
       "                         geometry  \n",
       "0  POINT (255852.376 4111567.818)  \n",
       "1  POINT (257406.967 4111298.971)  \n",
       "2  POINT (256838.760 4110819.876)  \n",
       "3  POINT (256176.947 4108752.026)  \n",
       "4  POINT (255968.372 4110476.079)  "
      ]
     },
     "execution_count": 4,
     "metadata": {},
     "output_type": "execute_result"
    }
   ],
   "source": [
    "plot_centroid_path = os.path.join(\"data\", \"spatial-vector-lidar\", \"california\", \"neon-sjer-site\", \"vector_data\", \"SJER_plot_centroids.shp\")\n",
    "\n",
    "sjer_plot_locations = gpd.read_file(plot_centroid_path)\n",
    "\n",
    "sjer_plot_locations.head()"
   ]
  }
 ],
 "metadata": {
  "kernelspec": {
   "display_name": "Python 3",
   "language": "python",
   "name": "python3"
  },
  "language_info": {
   "codemirror_mode": {
    "name": "ipython",
    "version": 3
   },
   "file_extension": ".py",
   "mimetype": "text/x-python",
   "name": "python",
   "nbconvert_exporter": "python",
   "pygments_lexer": "ipython3",
   "version": "3.10.13"
  }
 },
 "nbformat": 4,
 "nbformat_minor": 2
}
